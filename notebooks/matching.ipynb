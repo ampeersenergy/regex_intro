{
 "cells": [
  {
   "cell_type": "markdown",
   "metadata": {},
   "source": [
    "# Regular expressions, interactive examples"
   ]
  },
  {
   "cell_type": "code",
   "execution_count": null,
   "metadata": {},
   "outputs": [],
   "source": [
    "import sys\n",
    "sys.path.append(\"../src/\")"
   ]
  },
  {
   "cell_type": "code",
   "execution_count": null,
   "metadata": {},
   "outputs": [],
   "source": [
    "# Use the autoreload extension such that you are always up-to-date without notebook restarts\n",
    "%load_ext autoreload\n",
    "%autoreload 2"
   ]
  },
  {
   "cell_type": "code",
   "execution_count": null,
   "metadata": {},
   "outputs": [],
   "source": [
    "from regex_intro import show_regex_search_result"
   ]
  },
  {
   "cell_type": "markdown",
   "source": [
    "# Part 0: The math\n",
    "\n",
    "Invented by the mathematician Spehen Kleene, he formulated regular expressions (and called it regular language), and is defined as such:\n",
    "\n",
    "Given a finite alphated $\\Sigma$, the following constants are defined as regular expressions:\n",
    "\n",
    "- $\\emptyset$ denoting the empty set and is a valid regular expression\n",
    "- All $a_i \\in \\Sigma$ is **$a_i$** a regular expression\n",
    "- are $x$ and $y$ regular expressions, then $(x|y)$, $(xy)$, $(x^*)$ are regular expressions"
   ],
   "metadata": {
    "collapsed": false
   }
  },
  {
   "cell_type": "markdown",
   "metadata": {},
   "source": [
    "## Part 1: Searching"
   ]
  },
  {
   "cell_type": "markdown",
   "metadata": {},
   "source": [
    "### Simply searching for a string\n",
    "\n",
    "Similarly to a normal search bar, you can of course just search for a given string."
   ]
  },
  {
   "cell_type": "code",
   "execution_count": null,
   "metadata": {},
   "outputs": [],
   "source": [
    "regex = r\"\"\n",
    "test_string = \"This will match test in this string\"\n",
    "\n",
    "show_regex_search_result(regex,test_string) ## this basically calls re.compile, and then searches for all occurences of a given text"
   ]
  },
  {
   "cell_type": "markdown",
   "source": [
    "## Special character classes\n",
    "\n",
    "You can search for any given character using the `[]` brackets. So searching for characters would be\n",
    "\n",
    "```\n",
    "[xy] - Searches for x or y\n",
    "[a-e] - Searches for all word characters between a and e\n",
    "```\n",
    "\n",
    "The same is possible with numbers of course"
   ],
   "metadata": {
    "collapsed": false
   }
  },
  {
   "cell_type": "code",
   "execution_count": null,
   "outputs": [],
   "source": [
    "regex = r\"\"\n",
    "\n",
    "test_string = \"This searches for all occurences of es in this string, in combination and on its own\"\n",
    "\n",
    "show_regex_search_result(regex, test_string)"
   ],
   "metadata": {
    "collapsed": false
   }
  },
  {
   "cell_type": "code",
   "execution_count": null,
   "outputs": [],
   "source": [
    "regex = r\"\"\n",
    "\n",
    "test_string = \"This searches for all occurences between a and k in a given string\"\n",
    "\n",
    "show_regex_search_result(regex,test_string)"
   ],
   "metadata": {
    "collapsed": false
   }
  },
  {
   "cell_type": "markdown",
   "source": [
    "So to search for all word characters, we would need to write `[a-zA-Z0-9_]`. This sucks to always write, so lets use some abbreviations:\n",
    "\n",
    "```\n",
    "\\w - Matches any word characters\n",
    "\\d - Matches a digit\n",
    "\\s - Matches a whitespace\n",
    ".  - Matches any character (but not line return)\n",
    "```"
   ],
   "metadata": {
    "collapsed": false
   }
  },
  {
   "cell_type": "code",
   "execution_count": null,
   "outputs": [],
   "source": [
    "regex = r\"\"\n",
    "\n",
    "test_string = \"This searches for all Word characters, so basically everything\"\n",
    "\n",
    "show_regex_search_result(regex,test_string)"
   ],
   "metadata": {
    "collapsed": false
   }
  },
  {
   "cell_type": "code",
   "execution_count": null,
   "outputs": [],
   "source": [
    "regex = r\"\"\n",
    "\n",
    "test_string = \"This searches for digits, for example 5 or 8\"\n",
    "\n",
    "show_regex_search_result(regex,test_string)"
   ],
   "metadata": {
    "collapsed": false
   }
  },
  {
   "cell_type": "code",
   "execution_count": null,
   "outputs": [],
   "source": [
    "regex = r\"\"\n",
    "\n",
    "test_string = \"This text also has whitespaces, which can be matched like this\"\n",
    "\n",
    "show_regex_search_result(regex,test_string)"
   ],
   "metadata": {
    "collapsed": false
   }
  },
  {
   "cell_type": "code",
   "execution_count": null,
   "outputs": [],
   "source": [
    "regex = r\"\"\n",
    "\n",
    "test_string = \"This matches everything, also numbers like 9, but not the \\n line return\"\n",
    "\n",
    "show_regex_search_result(regex,test_string)"
   ],
   "metadata": {
    "collapsed": false
   }
  },
  {
   "cell_type": "markdown",
   "metadata": {},
   "source": [
    "### Quantifiers\n",
    "\n",
    "You can quantify a given search pattern using special characters:\n",
    "\n",
    "```\n",
    "+   - Match 1 or more\n",
    "*   - Match 0 or more\n",
    "?   - Match 0 or 1\n",
    "{x}  - Match x times\n",
    "{x,}  - Match x times or more\n",
    "{x,y} - Match between x and y times\n",
    "\n",
    "```"
   ]
  },
  {
   "cell_type": "code",
   "execution_count": null,
   "metadata": {},
   "outputs": [],
   "source": [
    "# Match 1 or more\n",
    "regex = r\"\"\n",
    "\n",
    "test_string = \"This will match all all t's that have characters before them\"\n",
    "\n",
    "show_regex_search_result(regex, test_string)"
   ]
  },
  {
   "cell_type": "code",
   "execution_count": null,
   "metadata": {},
   "outputs": [],
   "source": [
    "# Match 0 or more\n",
    "regex = r\"\"\n",
    "\n",
    "test_string = \"This will match all ts as well as the characters before t\"\n",
    "\n",
    "show_regex_search_result(regex, test_string) #"
   ]
  },
  {
   "cell_type": "code",
   "execution_count": null,
   "outputs": [],
   "source": [
    "# Match 0 or more\n",
    "regex = r\"\"\n",
    "\n",
    "test_string = \"This will match all ts as well as the character before it, if it exists\"\n",
    "\n",
    "show_regex_search_result(regex, test_string) #"
   ],
   "metadata": {
    "collapsed": false
   }
  },
  {
   "cell_type": "code",
   "execution_count": null,
   "outputs": [],
   "source": [
    "# Match exactly 2 or more\n",
    "regex_2 = r\"\"\n",
    "regex_2_ = r\"\"\n",
    "regex_2_4= r\"\"\n",
    "\n",
    "test_string = \"This will match all ts if they fulfill the specific boundary condition of items before it\"\n",
    "\n",
    "show_regex_search_result(regex_2, test_string)\n",
    "show_regex_search_result(regex_2_, test_string)\n",
    "show_regex_search_result(regex_2_4, test_string)"
   ],
   "metadata": {
    "collapsed": false
   }
  },
  {
   "cell_type": "markdown",
   "source": [
    "## Some special search patterns\n",
    "\n",
    "You can also match various other things, or modify search strings with other characters (incomplete list)\n",
    "\n",
    "```\n",
    "^           - Negates a search pattern in [] brackets, or start of a string when used on its own\n",
    "\\Capital    - Searches everything but a given pattern, e.g. \\D searches for everything that is not a number\n",
    "\\<          - Start of word\n",
    "\\>          - End of word\n",
    "\\t          - Tabs\n",
    "\\n          - Newline\n",
    "\\r          - Carriage Return\n",
    "```\n"
   ],
   "metadata": {
    "collapsed": false
   }
  },
  {
   "cell_type": "code",
   "execution_count": null,
   "outputs": [],
   "source": [
    "regex = r\"\"\n",
    "\n",
    "test_string = \"This searches for all non digit characters so 9 wouldn't be matched\"\n",
    "\n",
    "show_regex_search_result(regex,test_string)\n",
    "\n",
    "regex = r\"\"\n",
    "\n",
    "test_string = \"You can write dirty dirty regex like this, so that 9 is matched.\"\n",
    "\n",
    "show_regex_search_result(regex,test_string)"
   ],
   "metadata": {
    "collapsed": false
   }
  },
  {
   "cell_type": "code",
   "execution_count": null,
   "outputs": [],
   "source": [],
   "metadata": {
    "collapsed": false
   }
  }
 ],
 "metadata": {
  "kernelspec": {
   "display_name": "Python 3 (ipykernel)",
   "language": "python",
   "name": "python3"
  },
  "language_info": {
   "codemirror_mode": {
    "name": "ipython",
    "version": 3
   },
   "file_extension": ".py",
   "mimetype": "text/x-python",
   "name": "python",
   "nbconvert_exporter": "python",
   "pygments_lexer": "ipython3",
   "version": "3.10.8"
  },
  "vscode": {
   "interpreter": {
    "hash": "b605655090cc872ffe956a97aaf57765e8f87efcbb25a6bfd5cdb7ac4fd06122"
   }
  }
 },
 "nbformat": 4,
 "nbformat_minor": 2
}
