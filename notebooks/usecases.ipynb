{
 "cells": [
  {
   "cell_type": "markdown",
   "source": [
    "# Regular expressions, interactive examples"
   ],
   "metadata": {
    "collapsed": false
   }
  },
  {
   "cell_type": "code",
   "execution_count": 2,
   "outputs": [],
   "source": [
    "import sys\n",
    "sys.path.append(\"../src/\")"
   ],
   "metadata": {
    "collapsed": false
   }
  },
  {
   "cell_type": "code",
   "execution_count": 3,
   "outputs": [],
   "source": [
    "# Use the autoreload extension such that you are always up-to-date without notebook restarts\n",
    "%load_ext autoreload\n",
    "%autoreload 2"
   ],
   "metadata": {
    "collapsed": false
   }
  },
  {
   "cell_type": "code",
   "execution_count": 4,
   "outputs": [],
   "source": [
    "from regex_intro import show_regex_search_result"
   ],
   "metadata": {
    "collapsed": false
   }
  },
  {
   "cell_type": "markdown",
   "source": [
    "## Part 3: Usecases"
   ],
   "metadata": {
    "collapsed": false
   }
  },
  {
   "cell_type": "markdown",
   "source": [
    "### Form validation\n",
    "\n",
    "Form validation is a great use case for regex. One example would be credit cards:"
   ],
   "metadata": {
    "collapsed": false
   }
  },
  {
   "cell_type": "code",
   "execution_count": 28,
   "outputs": [
    {
     "name": "stdout",
     "output_type": "stream",
     "text": [
      "This number is correct: \u001B[92m\u001B[4m4857005005998591\u001B[0m\n",
      "This number is also correct: \u001B[92m\u001B[4m4857 0050 0599 8591\u001B[0m\n",
      "This number is also correct: \u001B[92m\u001B[4m4857-0050-0599-8591\u001B[0m\n",
      "This number is incorrect: 485700005998591\n"
     ]
    }
   ],
   "source": [
    "# Group search results\n",
    "regex = r\"\\d{4}[-, ]?\\d{4}[-, ]?\\d{4}[-, ]?\\d{4}\"\n",
    "\n",
    "test_string = \"This number is correct: 4857005005998591\"\n",
    "\n",
    "show_regex_search_result(regex, test_string)\n",
    "\n",
    "test_string = \"This number is also correct: 4857 0050 0599 8591\"\n",
    "\n",
    "show_regex_search_result(regex, test_string)\n",
    "\n",
    "test_string = \"This number is also correct: 4857-0050-0599-8591\"\n",
    "\n",
    "show_regex_search_result(regex, test_string)\n",
    "\n",
    "test_string = \"This number is incorrect: 485700005998591\"\n",
    "\n",
    "show_regex_search_result(regex, test_string)"
   ],
   "metadata": {
    "collapsed": false
   }
  },
  {
   "cell_type": "markdown",
   "source": [
    "Explanation:\n",
    "\n",
    "- 4 digits followed by\n",
    "- a dash, comma, space zero or one times\n",
    "- 4 digits followed by\n",
    "- a dash, comma, space zero or one times\n",
    "- 4 digits followed by\n",
    "- a dash, coma, space zero or one times\n",
    "- 4 digits"
   ],
   "metadata": {
    "collapsed": false
   }
  },
  {
   "cell_type": "markdown",
   "source": [
    "Another useful application would be email addresses:"
   ],
   "metadata": {
    "collapsed": false
   }
  },
  {
   "cell_type": "code",
   "execution_count": 30,
   "outputs": [
    {
     "name": "stdout",
     "output_type": "stream",
     "text": [
      "This is a valid email address:  \u001B[92m\u001B[4mmail@ampeersenergy.de\u001B[0m\n",
      "This is not a valid email address: mail@ampeersenergy\n"
     ]
    }
   ],
   "source": [
    "regex = r\"[a-zA-Z0-9.+-_]+@[a-zA-Z0-9.-]+\\.[a-zA-Z]{2,63}\"\n",
    "\n",
    "test_text = \"This is a valid email address:  mail@ampeersenergy.de\"\n",
    "\n",
    "show_regex_search_result(regex, test_text)\n",
    "\n",
    "test_text = \"This is not a valid email address: mail@ampeersenergy\"\n",
    "\n",
    "show_regex_search_result(regex, test_text)"
   ],
   "metadata": {
    "collapsed": false
   }
  },
  {
   "cell_type": "markdown",
   "source": [
    "Explanation:\n",
    "\n",
    "- Search for the recipients name with `[a-zA-Z0-9.+-_]+`\n",
    "- The `@` symbol\n",
    "- The main part of the domain with `[a-zA-Z0-9.-]+`\n",
    "- The top level domain part with `\\.[a-zA-Z]{2,63}`"
   ],
   "metadata": {
    "collapsed": false
   }
  },
  {
   "cell_type": "code",
   "execution_count": null,
   "outputs": [],
   "source": [],
   "metadata": {
    "collapsed": false
   }
  }
 ],
 "metadata": {
  "kernelspec": {
   "display_name": "Python 3",
   "language": "python",
   "name": "python3"
  },
  "language_info": {
   "codemirror_mode": {
    "name": "ipython",
    "version": 2
   },
   "file_extension": ".py",
   "mimetype": "text/x-python",
   "name": "python",
   "nbconvert_exporter": "python",
   "pygments_lexer": "ipython2",
   "version": "2.7.6"
  }
 },
 "nbformat": 4,
 "nbformat_minor": 0
}
