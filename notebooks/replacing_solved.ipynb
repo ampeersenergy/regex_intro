{
 "cells": [
  {
   "cell_type": "markdown",
   "metadata": {},
   "source": [
    "# Regular expressions, interactive examples"
   ]
  },
  {
   "cell_type": "code",
   "execution_count": 1,
   "metadata": {},
   "outputs": [],
   "source": [
    "import sys\n",
    "sys.path.append(\"../src/\")"
   ]
  },
  {
   "cell_type": "code",
   "execution_count": 2,
   "metadata": {},
   "outputs": [],
   "source": [
    "# Use the autoreload extension such that you are always up-to-date without notebook restarts\n",
    "%load_ext autoreload\n",
    "%autoreload 2"
   ]
  },
  {
   "cell_type": "code",
   "execution_count": 3,
   "metadata": {},
   "outputs": [],
   "source": [
    "from regex_intro import show_regex_search_result_group_highlighting, show_regex_substitution_highlighting,show_regex_search_result"
   ]
  },
  {
   "cell_type": "markdown",
   "metadata": {},
   "source": [
    "## Part 2: Advanced usage"
   ]
  },
  {
   "cell_type": "markdown",
   "metadata": {},
   "source": [
    "### Grouping of search patterns\n",
    "\n",
    "You can of course simply use the replacement feature of your regex library, to replace a given search string. This may not be what you want however, you may only want to replace certain patterns in things you search for. This is what grouping is for. You can group your search result using the `()` parentheses"
   ]
  },
  {
   "cell_type": "code",
   "execution_count": 4,
   "metadata": {},
   "outputs": [
    {
     "name": "stdout",
     "output_type": "stream",
     "text": [
      "This will match all all words like 4\u001b[38;5;255m8\u001b[0m\u001b[38;5;227m5\u001b[0m, and will group 8 and 5 in the previous number, or 2 and 4 in a\u001b[38;5;255m2\u001b[0m\u001b[38;5;227m4\u001b[0m.\n",
      "\u001b[0m\u001b[38;5;255mGroup 1: (\\d)\u001b[0m\n",
      "\u001b[0m\u001b[38;5;227mGroup 2: (\\w+)\u001b[0m\n"
     ]
    }
   ],
   "source": [
    "# Group search results\n",
    "regex = r\"\\w+(\\d)(\\w+)\"\n",
    "\n",
    "test_string = \"This will match all all words like 485, and will group 8 and 5 in the previous number, or 2 and 4 in a24.\"\n",
    "\n",
    "show_regex_search_result_group_highlighting(regex, test_string)"
   ]
  },
  {
   "cell_type": "markdown",
   "metadata": {},
   "source": [
    "Now you can go ahead and back reference a group in a substitution string. Say we want to add `dummy` before the first group, and `text` between the first and second group. We can backreference a grouping using `\\1` (first group), `\\2` (second group), ... . The `$` is used as well for this in other settings."
   ]
  },
  {
   "cell_type": "code",
   "execution_count": 5,
   "metadata": {},
   "outputs": [
    {
     "name": "stdout",
     "output_type": "stream",
     "text": [
      "This will match all all words like 485, and will group 8 and 5 in the previous number, or 2 and 4 in a24.\n",
      "\u001b[91m                                   ^^^^                                                              ^^^^\u001b[0m\n",
      "This will match all all words like dummy8text5, and will group 8 and 5 in the previous number, or 2 and 4 in dummy2text4.\n",
      "\u001b[91m                                   ^^^^^^^^^^^^                                                              ^^^^^^^^^^^^\u001b[0m\n"
     ]
    }
   ],
   "source": [
    "show_regex_substitution_highlighting(regex,r\"dummy\\1text\\2\",test_string)"
   ]
  },
  {
   "cell_type": "markdown",
   "metadata": {},
   "source": [
    "### Backrefrences\n",
    "\n",
    "Backreferences can also be used in regular expressions themselves. Say we want to match a string, that starts with a given number of word characters and then has two numbers. We want to only match the ones where the two numbers are the same:"
   ]
  },
  {
   "cell_type": "code",
   "execution_count": 6,
   "metadata": {},
   "outputs": [
    {
     "name": "stdout",
     "output_type": "stream",
     "text": [
      "This will match for example \u001b[92m\u001b[4mab44\u001b[0m, but not ab43\n"
     ]
    }
   ],
   "source": [
    "regex = r\"\\w+(\\d)\\1\" #\\1 is used in python syntax, can also be $1 in other places\n",
    "\n",
    "test_string = \"This will match for example ab44, but not ab43\"\n",
    "\n",
    "show_regex_search_result(regex, test_string)"
   ]
  },
  {
   "cell_type": "markdown",
   "metadata": {},
   "source": [
    "### Alternation in groupings\n",
    "\n",
    "You can also have an or operator in these groupings. Say we want to do the same above, we want to either match a given number of word characters and two numbers, or a given number of word characters and two `a`. You can use the `|` operator in the groupings for that"
   ]
  },
  {
   "cell_type": "code",
   "execution_count": 7,
   "metadata": {},
   "outputs": [
    {
     "name": "stdout",
     "output_type": "stream",
     "text": [
      "This will match for example \u001b[92m\u001b[4mab44\u001b[0m and \u001b[92m\u001b[4mabaa\u001b[0m, but not ab4a or abab\n"
     ]
    }
   ],
   "source": [
    "regex = r\"\\w+(\\d{2}|a{2})\"\n",
    "\n",
    "test_string = \"This will match for example ab44 and abaa, but not ab4a or abab\"\n",
    "\n",
    "show_regex_search_result(regex, test_string)"
   ]
  },
  {
   "cell_type": "markdown",
   "metadata": {},
   "source": [
    "### Lookahead and lookbehind\n",
    "\n",
    "Lookaheads allow us to look ahead in a given regex, and accept or discard it if it fullfills a given criteria. This seems fairly simple and obvious, and can be solved using the concepts already learned, however it is necessary for some more advanced topics. To perform a look ahead, we can use `(?!x)` (negative lookahead) or `(?=x)` (positive lookahead).\n",
    "\n",
    "An example: Say we want to match all numbers between 4000 and 5000."
   ]
  },
  {
   "cell_type": "code",
   "execution_count": 8,
   "metadata": {},
   "outputs": [
    {
     "name": "stdout",
     "output_type": "stream",
     "text": [
      "This looks promising with \u001b[92m\u001b[4m4021\u001b[0m but unfortunately also matches \u001b[92m\u001b[4m4000\u001b[0m.\n"
     ]
    }
   ],
   "source": [
    "failed_regex = r\"4\\d{3}\"\n",
    "\n",
    "test_string = \"This looks promising with 4021 but unfortunately also matches 4000.\"\n",
    "\n",
    "show_regex_search_result(failed_regex, test_string)"
   ]
  },
  {
   "cell_type": "code",
   "execution_count": 9,
   "metadata": {},
   "outputs": [
    {
     "name": "stdout",
     "output_type": "stream",
     "text": [
      "Now we will match \u001b[92m\u001b[4m4010\u001b[0m but not 4000.\n"
     ]
    }
   ],
   "source": [
    "correct_regex = r\"4([1-9]\\d\\d|\\d[1-9]\\d|\\d\\d[1-9])\\b\"\n",
    "\n",
    "test_string = \"Now we will match 4010 but not 4000.\"\n",
    "\n",
    "show_regex_search_result(correct_regex, test_string)"
   ]
  },
  {
   "cell_type": "code",
   "execution_count": 10,
   "metadata": {},
   "outputs": [
    {
     "name": "stdout",
     "output_type": "stream",
     "text": [
      "Now we will match \u001b[92m\u001b[4m4010\u001b[0m but not 4000.\n"
     ]
    }
   ],
   "source": [
    "regex_with_lookahead =r\"4(?!000)\\d{3}\"\n",
    "\n",
    "show_regex_search_result(correct_regex, test_string)"
   ]
  },
  {
   "cell_type": "markdown",
   "metadata": {},
   "source": [
    "Lookbehinds work similarly but by using the `<` character. So `(?<!x)` is the negative lookbehind, `(?<=x)` the positive lookbehind.\n",
    "\n",
    "**lookebhinds will not be machted in the regex, but just checked if they exist**\n",
    "\n",
    "So say we want to find all instances of Florian, where Florian is a surname."
   ]
  },
  {
   "cell_type": "code",
   "execution_count": 11,
   "metadata": {},
   "outputs": [
    {
     "name": "stdout",
     "output_type": "stream",
     "text": [
      "The name Hans \u001b[92m\u001b[4mFlorian\u001b[0m would be matched. Florian Bauer wouldn't be\n"
     ]
    }
   ],
   "source": [
    "regex = \"(?<=[A-Z]\\w* )Florian\"\n",
    "\n",
    "test_string = \"The name Hans Florian would be matched. Florian Bauer wouldn't be\"\n",
    "\n",
    "show_regex_search_result(regex, test_string)"
   ]
  },
  {
   "cell_type": "code",
   "execution_count": 11,
   "metadata": {},
   "outputs": [],
   "source": []
  }
 ],
 "metadata": {
  "kernelspec": {
   "display_name": "Python 3 (ipykernel)",
   "language": "python",
   "name": "python3"
  },
  "language_info": {
   "codemirror_mode": {
    "name": "ipython",
    "version": 3
   },
   "file_extension": ".py",
   "mimetype": "text/x-python",
   "name": "python",
   "nbconvert_exporter": "python",
   "pygments_lexer": "ipython3",
   "version": "3.10.8"
  }
 },
 "nbformat": 4,
 "nbformat_minor": 1
}
