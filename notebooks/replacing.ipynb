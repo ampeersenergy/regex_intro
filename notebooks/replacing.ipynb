{
 "cells": [
  {
   "cell_type": "markdown",
   "source": [
    "# Regular expressions, interactive examples"
   ],
   "metadata": {
    "collapsed": false
   }
  },
  {
   "cell_type": "code",
   "execution_count": null,
   "outputs": [],
   "source": [
    "import sys\n",
    "sys.path.append(\"../src/\")"
   ],
   "metadata": {
    "collapsed": false
   }
  },
  {
   "cell_type": "code",
   "execution_count": null,
   "outputs": [],
   "source": [
    "# Use the autoreload extension such that you are always up-to-date without notebook restarts\n",
    "%load_ext autoreload\n",
    "%autoreload 2"
   ],
   "metadata": {
    "collapsed": false
   }
  },
  {
   "cell_type": "code",
   "execution_count": null,
   "outputs": [],
   "source": [
    "from regex_intro import show_regex_search_result_group_highlighting, show_regex_substitution_highlighting,show_regex_search_result"
   ],
   "metadata": {
    "collapsed": false
   }
  },
  {
   "cell_type": "markdown",
   "source": [
    "## Part 2: Advanced usage"
   ],
   "metadata": {
    "collapsed": false
   }
  },
  {
   "cell_type": "markdown",
   "source": [
    "### Grouping of search patterns\n",
    "\n",
    "You can of course simply use the replacement feature of your regex library, to replace a given search string. This may not be what you want however, you may only want to replace certain patterns in things you search for. This is what grouping is for. You can group your search result using the `()` parentheses"
   ],
   "metadata": {
    "collapsed": false
   }
  },
  {
   "cell_type": "code",
   "execution_count": null,
   "outputs": [],
   "source": [
    "# Group search results\n",
    "regex = r\"\"\n",
    "\n",
    "test_string = \"This will match all all words like 485, and will group 8 and 5 in the previous number, or 2 and 4 in a24.\"\n",
    "\n",
    "show_regex_search_result_group_highlighting(regex, test_string)"
   ],
   "metadata": {
    "collapsed": false
   }
  },
  {
   "cell_type": "markdown",
   "source": [
    "Now you can go ahead and back reference a group in a substitution string. Say we want to add `dummy` before the first group, and `text` between the first and second group. We can backreference a grouping using `\\1` (first group), `\\2` (second group), ... . The `$` is used as well for this in other settings."
   ],
   "metadata": {
    "collapsed": false
   }
  },
  {
   "cell_type": "code",
   "execution_count": null,
   "outputs": [],
   "source": [
    "show_regex_substitution_highlighting(regex,r\"\",test_string)"
   ],
   "metadata": {
    "collapsed": false
   }
  },
  {
   "cell_type": "markdown",
   "source": [
    "### Backrefrences\n",
    "\n",
    "Backreferences can also be used in regular expressions themselves. Say we want to match a string, that starts with a given number of word characters and then has two numbers. We want to only match the ones where the two numbers are the same:"
   ],
   "metadata": {
    "collapsed": false
   }
  },
  {
   "cell_type": "code",
   "execution_count": null,
   "outputs": [],
   "source": [
    "regex = r\"\" #\\1 is used in python syntax, can also be $1 in other places\n",
    "\n",
    "test_string = \"This will match for example ab44, but not ab43\"\n",
    "\n",
    "show_regex_search_result(regex, test_string)"
   ],
   "metadata": {
    "collapsed": false
   }
  },
  {
   "cell_type": "markdown",
   "source": [
    "### Alternation in groupings\n",
    "\n",
    "You can also have an or operator in these groupings. Say we want to do the same above, we want to either match a given number of word characters and two numbers, or a given number of word characters and two `a`. You can use the `|` operator in the groupings for that"
   ],
   "metadata": {
    "collapsed": false
   }
  },
  {
   "cell_type": "code",
   "execution_count": null,
   "outputs": [],
   "source": [
    "regex = r\"\"\n",
    "\n",
    "test_string = \"This will match for example ab44 and abaa, but not ab4a or abab\"\n",
    "\n",
    "show_regex_search_result(regex, test_string)"
   ],
   "metadata": {
    "collapsed": false
   }
  },
  {
   "cell_type": "markdown",
   "source": [
    "### Lookahead and lookbehind\n",
    "\n",
    "Lookaheads allow us to look ahead in a given regex, and accept or discard it if it fullfills a given criteria. This seems fairly simple and obvious, and can be solved using the concepts already learned, however it is necessary for some more advanced topics. To perform a look ahead, we can use `(?!x)` (negative lookahead) or `(?=x)` (positive lookahead).\n",
    "\n",
    "An example: Say we want to match all numbers between 4000 and 5000."
   ],
   "metadata": {
    "collapsed": false
   }
  },
  {
   "cell_type": "code",
   "execution_count": null,
   "outputs": [],
   "source": [
    "failed_regex = r\"\"\n",
    "\n",
    "test_string = \"This looks promising with 4021 but unfortunately also matches 4000.\"\n",
    "\n",
    "show_regex_search_result(failed_regex, test_string)"
   ],
   "metadata": {
    "collapsed": false
   }
  },
  {
   "cell_type": "code",
   "execution_count": null,
   "outputs": [],
   "source": [
    "correct_regex = r\"\"\n",
    "\n",
    "test_string = \"Now we will match 4010 but not 4000.\"\n",
    "\n",
    "show_regex_search_result(correct_regex, test_string)"
   ],
   "metadata": {
    "collapsed": false
   }
  },
  {
   "cell_type": "code",
   "execution_count": null,
   "outputs": [],
   "source": [
    "regex_with_lookahead =r\"\"\n",
    "\n",
    "show_regex_search_result(correct_regex, test_string)"
   ],
   "metadata": {
    "collapsed": false
   }
  },
  {
   "cell_type": "markdown",
   "source": [
    "Lookbehinds work similarly but by using the `<` character. So `(?<!x)` is the negative lookbehind, `(?<=x)` the positive lookbehind.\n",
    "\n",
    "**lookebhinds will not be machted in the regex, but just checked if they exist**\n",
    "\n",
    "So say we want to find all instances of Florian, where Florian is a surname."
   ],
   "metadata": {
    "collapsed": false
   }
  },
  {
   "cell_type": "code",
   "execution_count": null,
   "outputs": [],
   "source": [
    "regex = \"\"\n",
    "\n",
    "test_string = \"The name Hans Florian would be matched. Florian Bauer wouldn't be\"\n",
    "\n",
    "show_regex_search_result(regex, test_string)"
   ],
   "metadata": {
    "collapsed": false
   }
  },
  {
   "cell_type": "code",
   "execution_count": null,
   "outputs": [],
   "source": [],
   "metadata": {
    "collapsed": false
   }
  }
 ],
 "metadata": {
  "kernelspec": {
   "display_name": "Python 3",
   "language": "python",
   "name": "python3"
  },
  "language_info": {
   "codemirror_mode": {
    "name": "ipython",
    "version": 2
   },
   "file_extension": ".py",
   "mimetype": "text/x-python",
   "name": "python",
   "nbconvert_exporter": "python",
   "pygments_lexer": "ipython2",
   "version": "2.7.6"
  }
 },
 "nbformat": 4,
 "nbformat_minor": 0
}
