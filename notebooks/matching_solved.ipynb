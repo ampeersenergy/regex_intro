{
 "cells": [
  {
   "cell_type": "markdown",
   "metadata": {},
   "source": [
    "# Regular expressions, interactive examples"
   ]
  },
  {
   "cell_type": "code",
   "execution_count": 16,
   "metadata": {},
   "outputs": [],
   "source": [
    "import sys\n",
    "sys.path.append(\"../src/\")"
   ]
  },
  {
   "cell_type": "code",
   "execution_count": 17,
   "metadata": {},
   "outputs": [
    {
     "name": "stdout",
     "output_type": "stream",
     "text": [
      "The autoreload extension is already loaded. To reload it, use:\n",
      "  %reload_ext autoreload\n"
     ]
    }
   ],
   "source": [
    "# Use the autoreload extension such that you are always up-to-date without notebook restarts\n",
    "%load_ext autoreload\n",
    "%autoreload 2"
   ]
  },
  {
   "cell_type": "code",
   "execution_count": 18,
   "metadata": {},
   "outputs": [],
   "source": [
    "from regex_intro import show_regex_search_result"
   ]
  },
  {
   "cell_type": "markdown",
   "source": [
    "# Part 0: The math\n",
    "\n",
    "Invented by the mathematician Spehen Kleene, he formulated regular expressions (and called it regular language), and is defined as such:\n",
    "\n",
    "Given a finite alphated $\\Sigma$, the following constants are defined as regular expressions:\n",
    "\n",
    "- $\\emptyset$ denoting the empty set and is a valid regular expression\n",
    "- All $a_i \\in \\Sigma$ is **$a_i$** a regular expression\n",
    "- are $x$ and $y$ regular expressions, then $(x|y)$, $(xy)$, $(x^*)$ are regular expressions"
   ],
   "metadata": {
    "collapsed": false
   }
  },
  {
   "cell_type": "markdown",
   "metadata": {},
   "source": [
    "## Part 1: Searching"
   ]
  },
  {
   "cell_type": "markdown",
   "metadata": {},
   "source": [
    "### Simply searching for a string\n",
    "\n",
    "Similarly to a normal search bar, you can of course just search for a given string."
   ]
  },
  {
   "cell_type": "code",
   "execution_count": 19,
   "metadata": {},
   "outputs": [
    {
     "name": "stdout",
     "output_type": "stream",
     "text": [
      "This will match \u001B[92m\u001B[4mtest\u001B[0m in this string\n"
     ]
    }
   ],
   "source": [
    "regex = r\"test\"\n",
    "test_string = \"This will match test in this string\"\n",
    "\n",
    "show_regex_search_result(regex,test_string) ## this basically calls re.compile, and then searches for all occurences of a given text"
   ]
  },
  {
   "cell_type": "markdown",
   "source": [
    "## Special character classes\n",
    "\n",
    "You can search for any given character using the `[]` brackets. So searching for characters would be\n",
    "\n",
    "```\n",
    "[xy] - Searches for x or y\n",
    "[a-e] - Searches for all word characters between a and e\n",
    "```\n",
    "\n",
    "The same is possible with numbers of course"
   ],
   "metadata": {
    "collapsed": false
   }
  },
  {
   "cell_type": "code",
   "execution_count": 20,
   "outputs": [
    {
     "name": "stdout",
     "output_type": "stream",
     "text": [
      "Thi\u001B[92m\u001B[4ms\u001B[0m \u001B[92m\u001B[4ms\u001B[0m\u001B[92m\u001B[4me\u001B[0march\u001B[92m\u001B[4me\u001B[0m\u001B[92m\u001B[4ms\u001B[0m for all occur\u001B[92m\u001B[4me\u001B[0mnc\u001B[92m\u001B[4me\u001B[0m\u001B[92m\u001B[4ms\u001B[0m of \u001B[92m\u001B[4me\u001B[0m\u001B[92m\u001B[4ms\u001B[0m in thi\u001B[92m\u001B[4ms\u001B[0m \u001B[92m\u001B[4ms\u001B[0mtring, in combination and on it\u001B[92m\u001B[4ms\u001B[0m own\n"
     ]
    }
   ],
   "source": [
    "regex = r\"[es]\"\n",
    "\n",
    "test_string = \"This searches for all occurences of es in this string, in combination and on its own\"\n",
    "\n",
    "show_regex_search_result(regex, test_string)"
   ],
   "metadata": {
    "collapsed": false
   }
  },
  {
   "cell_type": "code",
   "execution_count": 21,
   "outputs": [
    {
     "name": "stdout",
     "output_type": "stream",
     "text": [
      "T\u001B[92m\u001B[4mh\u001B[0m\u001B[92m\u001B[4mi\u001B[0ms s\u001B[92m\u001B[4me\u001B[0m\u001B[92m\u001B[4ma\u001B[0mr\u001B[92m\u001B[4mc\u001B[0m\u001B[92m\u001B[4mh\u001B[0m\u001B[92m\u001B[4me\u001B[0ms \u001B[92m\u001B[4mf\u001B[0mor \u001B[92m\u001B[4ma\u001B[0mll o\u001B[92m\u001B[4mc\u001B[0m\u001B[92m\u001B[4mc\u001B[0mur\u001B[92m\u001B[4me\u001B[0mn\u001B[92m\u001B[4mc\u001B[0m\u001B[92m\u001B[4me\u001B[0ms \u001B[92m\u001B[4mb\u001B[0m\u001B[92m\u001B[4me\u001B[0mtw\u001B[92m\u001B[4me\u001B[0m\u001B[92m\u001B[4me\u001B[0mn \u001B[92m\u001B[4ma\u001B[0m \u001B[92m\u001B[4ma\u001B[0mn\u001B[92m\u001B[4md\u001B[0m \u001B[92m\u001B[4mk\u001B[0m \u001B[92m\u001B[4mi\u001B[0mn \u001B[92m\u001B[4ma\u001B[0m \u001B[92m\u001B[4mg\u001B[0m\u001B[92m\u001B[4mi\u001B[0mv\u001B[92m\u001B[4me\u001B[0mn str\u001B[92m\u001B[4mi\u001B[0mn\u001B[92m\u001B[4mg\u001B[0m\n"
     ]
    }
   ],
   "source": [
    "regex = r\"[a-k]\"\n",
    "\n",
    "test_string = \"This searches for all occurences between a and k in a given string\"\n",
    "\n",
    "show_regex_search_result(regex,test_string)"
   ],
   "metadata": {
    "collapsed": false
   }
  },
  {
   "cell_type": "markdown",
   "source": [
    "So to search for all word characters, we would need to write `[a-zA-Z0-9_]`. This sucks to always write, so lets use some abbreviations:\n",
    "\n",
    "```\n",
    "\\w - Matches any word characters\n",
    "\\d - Matches a digit\n",
    "\\s - Matches a whitespace\n",
    ".  - Matches any character (but not line return)\n",
    "```"
   ],
   "metadata": {
    "collapsed": false
   }
  },
  {
   "cell_type": "code",
   "execution_count": 22,
   "outputs": [
    {
     "name": "stdout",
     "output_type": "stream",
     "text": [
      "\u001B[92m\u001B[4mT\u001B[0m\u001B[92m\u001B[4mh\u001B[0m\u001B[92m\u001B[4mi\u001B[0m\u001B[92m\u001B[4ms\u001B[0m \u001B[92m\u001B[4ms\u001B[0m\u001B[92m\u001B[4me\u001B[0m\u001B[92m\u001B[4ma\u001B[0m\u001B[92m\u001B[4mr\u001B[0m\u001B[92m\u001B[4mc\u001B[0m\u001B[92m\u001B[4mh\u001B[0m\u001B[92m\u001B[4me\u001B[0m\u001B[92m\u001B[4ms\u001B[0m \u001B[92m\u001B[4mf\u001B[0m\u001B[92m\u001B[4mo\u001B[0m\u001B[92m\u001B[4mr\u001B[0m \u001B[92m\u001B[4ma\u001B[0m\u001B[92m\u001B[4ml\u001B[0m\u001B[92m\u001B[4ml\u001B[0m \u001B[92m\u001B[4mW\u001B[0m\u001B[92m\u001B[4mo\u001B[0m\u001B[92m\u001B[4mr\u001B[0m\u001B[92m\u001B[4md\u001B[0m \u001B[92m\u001B[4mc\u001B[0m\u001B[92m\u001B[4mh\u001B[0m\u001B[92m\u001B[4ma\u001B[0m\u001B[92m\u001B[4mr\u001B[0m\u001B[92m\u001B[4ma\u001B[0m\u001B[92m\u001B[4mc\u001B[0m\u001B[92m\u001B[4mt\u001B[0m\u001B[92m\u001B[4me\u001B[0m\u001B[92m\u001B[4mr\u001B[0m\u001B[92m\u001B[4ms\u001B[0m, \u001B[92m\u001B[4ms\u001B[0m\u001B[92m\u001B[4mo\u001B[0m \u001B[92m\u001B[4mb\u001B[0m\u001B[92m\u001B[4ma\u001B[0m\u001B[92m\u001B[4ms\u001B[0m\u001B[92m\u001B[4mi\u001B[0m\u001B[92m\u001B[4mc\u001B[0m\u001B[92m\u001B[4ma\u001B[0m\u001B[92m\u001B[4ml\u001B[0m\u001B[92m\u001B[4ml\u001B[0m\u001B[92m\u001B[4my\u001B[0m \u001B[92m\u001B[4me\u001B[0m\u001B[92m\u001B[4mv\u001B[0m\u001B[92m\u001B[4me\u001B[0m\u001B[92m\u001B[4mr\u001B[0m\u001B[92m\u001B[4my\u001B[0m\u001B[92m\u001B[4mt\u001B[0m\u001B[92m\u001B[4mh\u001B[0m\u001B[92m\u001B[4mi\u001B[0m\u001B[92m\u001B[4mn\u001B[0m\u001B[92m\u001B[4mg\u001B[0m\n"
     ]
    }
   ],
   "source": [
    "regex = r\"\\w\"\n",
    "\n",
    "test_string = \"This searches for all Word characters, so basically everything\"\n",
    "\n",
    "show_regex_search_result(regex,test_string)"
   ],
   "metadata": {
    "collapsed": false
   }
  },
  {
   "cell_type": "code",
   "execution_count": 23,
   "outputs": [
    {
     "name": "stdout",
     "output_type": "stream",
     "text": [
      "This searches for digits, for example \u001B[92m\u001B[4m5\u001B[0m or \u001B[92m\u001B[4m8\u001B[0m\n"
     ]
    }
   ],
   "source": [
    "regex = r\"\\d\"\n",
    "\n",
    "test_string = \"This searches for digits, for example 5 or 8\"\n",
    "\n",
    "show_regex_search_result(regex,test_string)"
   ],
   "metadata": {
    "collapsed": false
   }
  },
  {
   "cell_type": "code",
   "execution_count": 24,
   "outputs": [
    {
     "name": "stdout",
     "output_type": "stream",
     "text": [
      "This\u001B[92m\u001B[4m \u001B[0mtext\u001B[92m\u001B[4m \u001B[0malso\u001B[92m\u001B[4m \u001B[0mhas\u001B[92m\u001B[4m \u001B[0mwhitespaces,\u001B[92m\u001B[4m \u001B[0mwhich\u001B[92m\u001B[4m \u001B[0mcan\u001B[92m\u001B[4m \u001B[0mbe\u001B[92m\u001B[4m \u001B[0mmatched\u001B[92m\u001B[4m \u001B[0mlike\u001B[92m\u001B[4m \u001B[0mthis\n"
     ]
    }
   ],
   "source": [
    "regex = r\"\\s\"\n",
    "\n",
    "test_string = \"This text also has whitespaces, which can be matched like this\"\n",
    "\n",
    "show_regex_search_result(regex,test_string)"
   ],
   "metadata": {
    "collapsed": false
   }
  },
  {
   "cell_type": "code",
   "execution_count": 25,
   "outputs": [
    {
     "name": "stdout",
     "output_type": "stream",
     "text": [
      "\u001B[92m\u001B[4mT\u001B[0m\u001B[92m\u001B[4mh\u001B[0m\u001B[92m\u001B[4mi\u001B[0m\u001B[92m\u001B[4ms\u001B[0m\u001B[92m\u001B[4m \u001B[0m\u001B[92m\u001B[4mm\u001B[0m\u001B[92m\u001B[4ma\u001B[0m\u001B[92m\u001B[4mt\u001B[0m\u001B[92m\u001B[4mc\u001B[0m\u001B[92m\u001B[4mh\u001B[0m\u001B[92m\u001B[4me\u001B[0m\u001B[92m\u001B[4ms\u001B[0m\u001B[92m\u001B[4m \u001B[0m\u001B[92m\u001B[4me\u001B[0m\u001B[92m\u001B[4mv\u001B[0m\u001B[92m\u001B[4me\u001B[0m\u001B[92m\u001B[4mr\u001B[0m\u001B[92m\u001B[4my\u001B[0m\u001B[92m\u001B[4mt\u001B[0m\u001B[92m\u001B[4mh\u001B[0m\u001B[92m\u001B[4mi\u001B[0m\u001B[92m\u001B[4mn\u001B[0m\u001B[92m\u001B[4mg\u001B[0m\u001B[92m\u001B[4m,\u001B[0m\u001B[92m\u001B[4m \u001B[0m\u001B[92m\u001B[4ma\u001B[0m\u001B[92m\u001B[4ml\u001B[0m\u001B[92m\u001B[4ms\u001B[0m\u001B[92m\u001B[4mo\u001B[0m\u001B[92m\u001B[4m \u001B[0m\u001B[92m\u001B[4mn\u001B[0m\u001B[92m\u001B[4mu\u001B[0m\u001B[92m\u001B[4mm\u001B[0m\u001B[92m\u001B[4mb\u001B[0m\u001B[92m\u001B[4me\u001B[0m\u001B[92m\u001B[4mr\u001B[0m\u001B[92m\u001B[4ms\u001B[0m\u001B[92m\u001B[4m \u001B[0m\u001B[92m\u001B[4ml\u001B[0m\u001B[92m\u001B[4mi\u001B[0m\u001B[92m\u001B[4mk\u001B[0m\u001B[92m\u001B[4me\u001B[0m\u001B[92m\u001B[4m \u001B[0m\u001B[92m\u001B[4m9\u001B[0m\u001B[92m\u001B[4m,\u001B[0m\u001B[92m\u001B[4m \u001B[0m\u001B[92m\u001B[4mb\u001B[0m\u001B[92m\u001B[4mu\u001B[0m\u001B[92m\u001B[4mt\u001B[0m\u001B[92m\u001B[4m \u001B[0m\u001B[92m\u001B[4mn\u001B[0m\u001B[92m\u001B[4mo\u001B[0m\u001B[92m\u001B[4mt\u001B[0m\u001B[92m\u001B[4m \u001B[0m\u001B[92m\u001B[4mt\u001B[0m\u001B[92m\u001B[4mh\u001B[0m\u001B[92m\u001B[4me\u001B[0m\u001B[92m\u001B[4m \u001B[0m\n",
      "\u001B[92m\u001B[4m \u001B[0m\u001B[92m\u001B[4ml\u001B[0m\u001B[92m\u001B[4mi\u001B[0m\u001B[92m\u001B[4mn\u001B[0m\u001B[92m\u001B[4me\u001B[0m\u001B[92m\u001B[4m \u001B[0m\u001B[92m\u001B[4mr\u001B[0m\u001B[92m\u001B[4me\u001B[0m\u001B[92m\u001B[4mt\u001B[0m\u001B[92m\u001B[4mu\u001B[0m\u001B[92m\u001B[4mr\u001B[0m\u001B[92m\u001B[4mn\u001B[0m\n"
     ]
    }
   ],
   "source": [
    "regex = r\".\"\n",
    "\n",
    "test_string = \"This matches everything, also numbers like 9, but not the \\n line return\"\n",
    "\n",
    "show_regex_search_result(regex,test_string)"
   ],
   "metadata": {
    "collapsed": false
   }
  },
  {
   "cell_type": "markdown",
   "metadata": {},
   "source": [
    "### Quantifiers\n",
    "\n",
    "You can quantify a given search pattern using special characters:\n",
    "\n",
    "```\n",
    "+   - Match 1 or more\n",
    "*   - Match 0 or more\n",
    "?   - Match 0 or 1\n",
    "{x}  - Match x times\n",
    "{x,}  - Match x times or more\n",
    "{x,y} - Match between x and y times\n",
    "\n",
    "```"
   ]
  },
  {
   "cell_type": "code",
   "execution_count": 26,
   "metadata": {},
   "outputs": [
    {
     "name": "stdout",
     "output_type": "stream",
     "text": [
      "This will \u001B[92m\u001B[4mmat\u001B[0mch all all t's \u001B[92m\u001B[4mthat\u001B[0m have \u001B[92m\u001B[4mcharact\u001B[0mers before them\n"
     ]
    }
   ],
   "source": [
    "# Match 1 or more\n",
    "regex = r\"\\w+t\"\n",
    "\n",
    "test_string = \"This will match all all t's that have characters before them\"\n",
    "\n",
    "show_regex_search_result(regex, test_string)"
   ]
  },
  {
   "cell_type": "code",
   "execution_count": 27,
   "metadata": {},
   "outputs": [
    {
     "name": "stdout",
     "output_type": "stream",
     "text": [
      "This will \u001B[92m\u001B[4mmat\u001B[0mch all \u001B[92m\u001B[4mt\u001B[0ms as well as \u001B[92m\u001B[4mt\u001B[0mhe \u001B[92m\u001B[4mcharact\u001B[0mers before \u001B[92m\u001B[4mt\u001B[0m\n"
     ]
    }
   ],
   "source": [
    "# Match 0 or more\n",
    "regex = r\"\\w*t\"\n",
    "\n",
    "test_string = \"This will match all ts as well as the characters before t\"\n",
    "\n",
    "show_regex_search_result(regex, test_string) #"
   ]
  },
  {
   "cell_type": "code",
   "execution_count": 28,
   "outputs": [
    {
     "name": "stdout",
     "output_type": "stream",
     "text": [
      "This will m\u001B[92m\u001B[4mat\u001B[0mch all \u001B[92m\u001B[4mt\u001B[0ms as well as \u001B[92m\u001B[4mt\u001B[0mhe chara\u001B[92m\u001B[4mct\u001B[0mer before \u001B[92m\u001B[4mit\u001B[0m, if \u001B[92m\u001B[4mit\u001B[0m exi\u001B[92m\u001B[4mst\u001B[0ms\n"
     ]
    }
   ],
   "source": [
    "# Match 0 or more\n",
    "regex = r\"\\w?t\"\n",
    "\n",
    "test_string = \"This will match all ts as well as the character before it, if it exists\"\n",
    "\n",
    "show_regex_search_result(regex, test_string) #"
   ],
   "metadata": {
    "collapsed": false
   }
  },
  {
   "cell_type": "code",
   "execution_count": 29,
   "outputs": [
    {
     "name": "stdout",
     "output_type": "stream",
     "text": [
      "This will \u001B[92m\u001B[4mmat\u001B[0mch all ts if they fulfill the specific boundary con\u001B[92m\u001B[4mdit\u001B[0mion of items before it\n",
      "This will \u001B[92m\u001B[4mmat\u001B[0mch all ts if they fulfill the specific boundary \u001B[92m\u001B[4mcondit\u001B[0mion of items before it\n",
      "This will \u001B[92m\u001B[4mmat\u001B[0mch all ts if they fulfill the specific boundary c\u001B[92m\u001B[4mondit\u001B[0mion of items before it\n"
     ]
    }
   ],
   "source": [
    "# Match exactly 2 or more\n",
    "regex_2 = r\"\\w{2}t\"\n",
    "regex_2_ = r\"\\w{2,}t\"\n",
    "regex_2_4= r\"\\w{2,4}?t\"\n",
    "\n",
    "test_string = \"This will match all ts if they fulfill the specific boundary condition of items before it\"\n",
    "\n",
    "show_regex_search_result(regex_2, test_string)\n",
    "show_regex_search_result(regex_2_, test_string)\n",
    "show_regex_search_result(regex_2_4, test_string)"
   ],
   "metadata": {
    "collapsed": false
   }
  },
  {
   "cell_type": "markdown",
   "source": [
    "## Some special search patterns\n",
    "\n",
    "You can also match various other things, or modify search strings with other characters (incomplete list)\n",
    "\n",
    "```\n",
    "^           - Negates a search pattern in [] brackets, or start of a string when used on its own\n",
    "\\Capital    - Searches everything but a given pattern, e.g. \\D searches for everything that is not a number\n",
    "\\<          - Start of word\n",
    "\\>          - End of word\n",
    "\\t          - Tabs\n",
    "\\n          - Newline\n",
    "\\r          - Carriage Return\n",
    "```\n"
   ],
   "metadata": {
    "collapsed": false
   }
  },
  {
   "cell_type": "code",
   "execution_count": 30,
   "outputs": [
    {
     "name": "stdout",
     "output_type": "stream",
     "text": [
      "\u001B[92m\u001B[4mT\u001B[0m\u001B[92m\u001B[4mh\u001B[0m\u001B[92m\u001B[4mi\u001B[0m\u001B[92m\u001B[4ms\u001B[0m\u001B[92m\u001B[4m \u001B[0m\u001B[92m\u001B[4ms\u001B[0m\u001B[92m\u001B[4me\u001B[0m\u001B[92m\u001B[4ma\u001B[0m\u001B[92m\u001B[4mr\u001B[0m\u001B[92m\u001B[4mc\u001B[0m\u001B[92m\u001B[4mh\u001B[0m\u001B[92m\u001B[4me\u001B[0m\u001B[92m\u001B[4ms\u001B[0m\u001B[92m\u001B[4m \u001B[0m\u001B[92m\u001B[4mf\u001B[0m\u001B[92m\u001B[4mo\u001B[0m\u001B[92m\u001B[4mr\u001B[0m\u001B[92m\u001B[4m \u001B[0m\u001B[92m\u001B[4ma\u001B[0m\u001B[92m\u001B[4ml\u001B[0m\u001B[92m\u001B[4ml\u001B[0m\u001B[92m\u001B[4m \u001B[0m\u001B[92m\u001B[4mn\u001B[0m\u001B[92m\u001B[4mo\u001B[0m\u001B[92m\u001B[4mn\u001B[0m\u001B[92m\u001B[4m \u001B[0m\u001B[92m\u001B[4md\u001B[0m\u001B[92m\u001B[4mi\u001B[0m\u001B[92m\u001B[4mg\u001B[0m\u001B[92m\u001B[4mi\u001B[0m\u001B[92m\u001B[4mt\u001B[0m\u001B[92m\u001B[4m \u001B[0m\u001B[92m\u001B[4mc\u001B[0m\u001B[92m\u001B[4mh\u001B[0m\u001B[92m\u001B[4ma\u001B[0m\u001B[92m\u001B[4mr\u001B[0m\u001B[92m\u001B[4ma\u001B[0m\u001B[92m\u001B[4mc\u001B[0m\u001B[92m\u001B[4mt\u001B[0m\u001B[92m\u001B[4me\u001B[0m\u001B[92m\u001B[4mr\u001B[0m\u001B[92m\u001B[4ms\u001B[0m\u001B[92m\u001B[4m \u001B[0m\u001B[92m\u001B[4ms\u001B[0m\u001B[92m\u001B[4mo\u001B[0m\u001B[92m\u001B[4m \u001B[0m9\u001B[92m\u001B[4m \u001B[0m\u001B[92m\u001B[4mw\u001B[0m\u001B[92m\u001B[4mo\u001B[0m\u001B[92m\u001B[4mu\u001B[0m\u001B[92m\u001B[4ml\u001B[0m\u001B[92m\u001B[4md\u001B[0m\u001B[92m\u001B[4mn\u001B[0m\u001B[92m\u001B[4m'\u001B[0m\u001B[92m\u001B[4mt\u001B[0m\u001B[92m\u001B[4m \u001B[0m\u001B[92m\u001B[4mb\u001B[0m\u001B[92m\u001B[4me\u001B[0m\u001B[92m\u001B[4m \u001B[0m\u001B[92m\u001B[4mm\u001B[0m\u001B[92m\u001B[4ma\u001B[0m\u001B[92m\u001B[4mt\u001B[0m\u001B[92m\u001B[4mc\u001B[0m\u001B[92m\u001B[4mh\u001B[0m\u001B[92m\u001B[4me\u001B[0m\u001B[92m\u001B[4md\u001B[0m\n",
      "You can write dirty dirty regex like this, so that \u001B[92m\u001B[4m9\u001B[0m is matched.\n"
     ]
    }
   ],
   "source": [
    "regex = r\"\\D\"\n",
    "\n",
    "test_string = \"This searches for all non digit characters so 9 wouldn't be matched\"\n",
    "\n",
    "show_regex_search_result(regex,test_string)\n",
    "\n",
    "regex = r\"[^\\D]\"\n",
    "\n",
    "test_string = \"You can write dirty dirty regex like this, so that 9 is matched.\"\n",
    "\n",
    "show_regex_search_result(regex,test_string)"
   ],
   "metadata": {
    "collapsed": false
   }
  },
  {
   "cell_type": "code",
   "execution_count": 30,
   "outputs": [],
   "source": [],
   "metadata": {
    "collapsed": false
   }
  }
 ],
 "metadata": {
  "kernelspec": {
   "display_name": "Python 3 (ipykernel)",
   "language": "python",
   "name": "python3"
  },
  "language_info": {
   "codemirror_mode": {
    "name": "ipython",
    "version": 3
   },
   "file_extension": ".py",
   "mimetype": "text/x-python",
   "name": "python",
   "nbconvert_exporter": "python",
   "pygments_lexer": "ipython3",
   "version": "3.10.8"
  },
  "vscode": {
   "interpreter": {
    "hash": "b605655090cc872ffe956a97aaf57765e8f87efcbb25a6bfd5cdb7ac4fd06122"
   }
  }
 },
 "nbformat": 4,
 "nbformat_minor": 2
}
